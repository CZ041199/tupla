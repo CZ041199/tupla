{
 "cells": [
  {
   "cell_type": "code",
   "execution_count": 2,
   "id": "4eb35a60",
   "metadata": {},
   "outputs": [
    {
     "name": "stdout",
     "output_type": "stream",
     "text": [
      "(1, 'a', 7.6)\n"
     ]
    }
   ],
   "source": [
    "#criando uma tupla - alocando memória para uma tupla\n",
    "a = (1, 'a',7.6)\n",
    "print(a)"
   ]
  },
  {
   "cell_type": "code",
   "execution_count": 4,
   "id": "67e0ee4f",
   "metadata": {},
   "outputs": [
    {
     "name": "stdout",
     "output_type": "stream",
     "text": [
      "7.6\n"
     ]
    }
   ],
   "source": [
    "# acessando uma tupla - acessando a memória alocada para a tupla\n",
    "print(a[2]) #acessando 3° elemento da Tupla"
   ]
  },
  {
   "cell_type": "code",
   "execution_count": 5,
   "id": "8e1707e8",
   "metadata": {},
   "outputs": [],
   "source": [
    "#modificando elemento tupla\n",
    "a = (1, 'a',16)"
   ]
  },
  {
   "cell_type": "code",
   "execution_count": 6,
   "id": "d458d716",
   "metadata": {},
   "outputs": [
    {
     "name": "stdout",
     "output_type": "stream",
     "text": [
      "(1, 'a', 16)\n"
     ]
    }
   ],
   "source": [
    "print(a)"
   ]
  },
  {
   "cell_type": "code",
   "execution_count": null,
   "id": "35194550",
   "metadata": {},
   "outputs": [],
   "source": []
  }
 ],
 "metadata": {
  "kernelspec": {
   "display_name": "Python 3 (ipykernel)",
   "language": "python",
   "name": "python3"
  },
  "language_info": {
   "codemirror_mode": {
    "name": "ipython",
    "version": 3
   },
   "file_extension": ".py",
   "mimetype": "text/x-python",
   "name": "python",
   "nbconvert_exporter": "python",
   "pygments_lexer": "ipython3",
   "version": "3.10.9"
  }
 },
 "nbformat": 4,
 "nbformat_minor": 5
}
